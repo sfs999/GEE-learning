{
  "cells": [
    {
      "cell_type": "code",
      "execution_count": null,
      "metadata": {
        "id": "CzPK31b-Akfs"
      },
      "outputs": [],
      "source": [
        "#初始化远程虚拟机的GEE服务\n",
        "!pip install earthengine-api\n",
        "\n",
        "import ee\n",
        "ee.Authenticate()\n",
        "ee.Initialize()\n",
        "#print(ee.Image(\"NASA/NASADEM_HGT/001\").get(\"title\").getInfo())\n",
        "#初始化谷歌云盘\n",
        "import os\n",
        "from google.colab import drive\n",
        "drive.mount('/content/drive')\n",
        "path=\"/content/drive/My Drive\"\n",
        "os.chdir(path)\n",
        "os.listdir(path)\n"
      ]
    },
    {
      "cell_type": "code",
      "execution_count": null,
      "metadata": {
        "id": "FzOX1bZvXLZH"
      },
      "outputs": [],
      "source": [
        "#初始化本地GEE服务\n",
        "import ee\n",
        "import os\n",
        "os.environ['HTTP_PROXY'] = 'http://127.0.0.1:7890'\n",
        "os.environ['HTTPS_PROXY'] = 'http://127.0.0.1:7890'\n",
        "ee.Initialize()\n",
        "#print(ee.Image('USGS/SRTMGL1_003').getInfo())"
      ]
    },
    {
      "cell_type": "code",
      "execution_count": null,
      "metadata": {
        "id": "0_k7wJBhDVcb"
      },
      "outputs": [],
      "source": [
        "#查看远程虚拟机的配置\n",
        "from tensorflow.python.client import device_lib\n",
        "device_lib.list_local_devices()"
      ]
    },
    {
      "cell_type": "code",
      "execution_count": null,
      "metadata": {
        "id": "9CT69F-mFmI2"
      },
      "outputs": [],
      "source": [
        "import torch\n",
        "#增改测试\n",
        "#增改测试2"
      ]
    }
  ],
  "metadata": {
    "accelerator": "GPU",
    "colab": {
      "provenance": []
    },
    "gpuClass": "standard",
    "kernelspec": {
      "display_name": "Python 3 (ipykernel)",
      "language": "python",
      "name": "python3"
    },
    "language_info": {
      "codemirror_mode": {
        "name": "ipython",
        "version": 3
      },
      "file_extension": ".py",
      "mimetype": "text/x-python",
      "name": "python",
      "nbconvert_exporter": "python",
      "pygments_lexer": "ipython3",
      "version": "3.7.8rc1"
    }
  },
  "nbformat": 4,
  "nbformat_minor": 0
}